{
 "cells": [
  {
   "cell_type": "markdown",
   "metadata": {},
   "source": [
    "### Classifying movie reviews - Part 1"
   ]
  },
  {
   "cell_type": "markdown",
   "metadata": {},
   "source": [
    "### Load the IMDB Dataset"
   ]
  },
  {
   "cell_type": "code",
   "execution_count": 1,
   "metadata": {},
   "outputs": [
    {
     "name": "stderr",
     "output_type": "stream",
     "text": [
      "/usr/local/anaconda/python3/lib/python3.6/site-packages/h5py/__init__.py:34: FutureWarning: Conversion of the second argument of issubdtype from `float` to `np.floating` is deprecated. In future, it will be treated as `np.float64 == np.dtype(float).type`.\n",
      "  from ._conv import register_converters as _register_converters\n",
      "Using TensorFlow backend.\n"
     ]
    }
   ],
   "source": [
    "from keras.datasets import imdb"
   ]
  },
  {
   "cell_type": "markdown",
   "metadata": {},
   "source": [
    "### Only keep the top 10,000 most frequently occurring words in the training data. (train_data, train_labels), (test_data, test_labels) = imdb.load_data(num_words=10000)"
   ]
  },
  {
   "cell_type": "code",
   "execution_count": 2,
   "metadata": {
    "collapsed": true
   },
   "outputs": [],
   "source": [
    "(X_train, y_train), (X_test, y_test) = imdb.load_data(path=\"imdb.npz\",\n",
    "                                                      num_words=10000,\n",
    "                                                      skip_top=0,\n",
    "                                                      maxlen=None,\n",
    "                                                      seed=113,\n",
    "                                                      start_char=1,\n",
    "                                                      oov_char=2,\n",
    "                                                      index_from=3)"
   ]
  },
  {
   "cell_type": "markdown",
   "metadata": {},
   "source": [
    "### Prepare the data"
   ]
  },
  {
   "cell_type": "code",
   "execution_count": 3,
   "metadata": {
    "collapsed": true
   },
   "outputs": [],
   "source": [
    "from __future__ import print_function\n",
    "import numpy as np\n",
    "from keras.models import Sequential\n",
    "from keras.layers import Dense, Dropout, Activation\n",
    "from keras.utils import np_utils\n",
    "from keras.preprocessing.text import Tokenizer\n",
    "\n",
    "#define parameters\n",
    "max_words = 10000\n",
    "batch_size = 32\n",
    "nb_epoch = 5"
   ]
  },
  {
   "cell_type": "code",
   "execution_count": 4,
   "metadata": {},
   "outputs": [
    {
     "name": "stdout",
     "output_type": "stream",
     "text": [
      "25000 train sequences\n"
     ]
    }
   ],
   "source": [
    "print(len(X_train), 'train sequences')\n"
   ]
  },
  {
   "cell_type": "code",
   "execution_count": 5,
   "metadata": {},
   "outputs": [
    {
     "name": "stdout",
     "output_type": "stream",
     "text": [
      "25000 test sequences\n"
     ]
    }
   ],
   "source": [
    "print(len(X_test), 'test sequences')\n",
    "#Number of classes\n"
   ]
  },
  {
   "cell_type": "code",
   "execution_count": 6,
   "metadata": {},
   "outputs": [
    {
     "name": "stdout",
     "output_type": "stream",
     "text": [
      "2 classes\n"
     ]
    }
   ],
   "source": [
    "nb_classes = np.max(y_train)+1\n",
    "print(nb_classes, 'classes')"
   ]
  },
  {
   "cell_type": "markdown",
   "metadata": {},
   "source": [
    "### Vectorization of data"
   ]
  },
  {
   "cell_type": "code",
   "execution_count": 7,
   "metadata": {},
   "outputs": [
    {
     "name": "stdout",
     "output_type": "stream",
     "text": [
      "Vectorizing sequence data...\n"
     ]
    },
    {
     "name": "stderr",
     "output_type": "stream",
     "text": [
      "/usr/local/anaconda/python3/lib/python3.6/site-packages/keras/preprocessing/text.py:172: UserWarning: The `nb_words` argument in `Tokenizer` has been renamed `num_words`.\n",
      "  warnings.warn('The `nb_words` argument in `Tokenizer` '\n"
     ]
    },
    {
     "name": "stdout",
     "output_type": "stream",
     "text": [
      "X_train shape: (25000, 10000)\n",
      "X_test shape: (25000, 10000)\n"
     ]
    }
   ],
   "source": [
    "#Vectorize the data\n",
    "print('Vectorizing sequence data...')\n",
    "tokenizer = Tokenizer(nb_words=max_words)\n",
    "X_train = tokenizer.sequences_to_matrix(X_train, mode='binary')\n",
    "X_test = tokenizer.sequences_to_matrix(X_test, mode='binary')\n",
    "print('X_train shape:', X_train.shape)\n",
    "print('X_test shape:', X_test.shape)"
   ]
  },
  {
   "cell_type": "code",
   "execution_count": 8,
   "metadata": {},
   "outputs": [
    {
     "name": "stdout",
     "output_type": "stream",
     "text": [
      "[0. 1. 1. ... 0. 0. 0.]\n"
     ]
    }
   ],
   "source": [
    "print(X_train[1])"
   ]
  },
  {
   "cell_type": "code",
   "execution_count": 9,
   "metadata": {},
   "outputs": [
    {
     "name": "stdout",
     "output_type": "stream",
     "text": [
      "Convert class vector to binary class matrix (for use with categorical_crossentropy)\n",
      "Y_train shape: (25000, 2)\n",
      "Y_test shape: (25000, 2)\n"
     ]
    }
   ],
   "source": [
    "print('Convert class vector to binary class matrix (for use with categorical_crossentropy)')\n",
    "Y_train = np_utils.to_categorical(y_train, nb_classes)\n",
    "Y_test = np_utils.to_categorical(y_test, nb_classes)\n",
    "print('Y_train shape:', Y_train.shape)\n",
    "print('Y_test shape:', Y_test.shape)"
   ]
  },
  {
   "cell_type": "markdown",
   "metadata": {},
   "source": [
    "### Building model with below parameters:\n",
    "#### Activation funtion - relu (First Stage)\n",
    "#### Activation funtion - softmax (Second Stage)\n",
    "#### Loss funtion - categorical_crossentropy\n",
    "#### Epoch size - 5\n",
    "#### Batch_size - 32\n",
    "#### Accuracy -  \"\"\"\"\"\" 53.23%\"\"\"\"\"\""
   ]
  },
  {
   "cell_type": "code",
   "execution_count": 10,
   "metadata": {},
   "outputs": [
    {
     "name": "stdout",
     "output_type": "stream",
     "text": [
      "Building model...\n"
     ]
    },
    {
     "name": "stderr",
     "output_type": "stream",
     "text": [
      "/usr/local/anaconda/python3/lib/python3.6/site-packages/keras/models.py:981: UserWarning: The `nb_epoch` argument in `fit` has been renamed `epochs`.\n",
      "  warnings.warn('The `nb_epoch` argument in `fit` '\n"
     ]
    },
    {
     "name": "stdout",
     "output_type": "stream",
     "text": [
      "Train on 22500 samples, validate on 2500 samples\n",
      "Epoch 1/5\n",
      "22500/22500 [==============================] - 23s 1ms/step - loss: 0.3294 - val_loss: 0.2819\n",
      "Epoch 2/5\n",
      "22500/22500 [==============================] - 23s 1ms/step - loss: 0.1773 - val_loss: 0.3346\n",
      "Epoch 3/5\n",
      "22500/22500 [==============================] - 23s 1ms/step - loss: 0.0976 - val_loss: 0.3440\n",
      "Epoch 4/5\n",
      "22500/22500 [==============================] - 23s 1ms/step - loss: 0.0426 - val_loss: 0.4106\n",
      "Epoch 5/5\n",
      "22500/22500 [==============================] - 23s 1ms/step - loss: 0.0187 - val_loss: 0.5159\n",
      "25000/25000 [==============================] - 3s 112us/step\n",
      "Test score: 0.515432866859436\n",
      "Test accuracy: 0.515432866859436\n"
     ]
    }
   ],
   "source": [
    "#Build the model\n",
    "print('Building model...')\n",
    "model = Sequential()\n",
    "model.add(Dense(512, input_shape=(max_words,)))\n",
    "model.add(Activation('relu'))\n",
    "model.add(Dropout(0.5))\n",
    "model.add(Dense(nb_classes))\n",
    "model.add(Activation('softmax'))\n",
    "#compile the model\n",
    "model.compile(loss='categorical_crossentropy',\n",
    "              optimizer='adam',\n",
    "              )\n",
    "#Fit the model with the training data\n",
    "history = model.fit(X_train, Y_train,\n",
    "                    nb_epoch=nb_epoch, batch_size=batch_size,\n",
    "                    verbose=1, validation_split=0.1)\n",
    "#evaluate the model\n",
    "score = model.evaluate(X_test, Y_test,\n",
    "                       batch_size=batch_size, verbose=1)\n",
    "print('Test score:', score)\n",
    "print('Test accuracy:', score)"
   ]
  },
  {
   "cell_type": "code",
   "execution_count": 11,
   "metadata": {
    "collapsed": true
   },
   "outputs": [],
   "source": [
    "#define parameters\n",
    "max_words = 10000\n",
    "batch_size = 100\n",
    "nb_epoch = 10"
   ]
  },
  {
   "cell_type": "markdown",
   "metadata": {},
   "source": [
    "### Building model with below parameters (Changing few of them):\n",
    "#### Activation funtion - relu (First Stage)\n",
    "#### Activation funtion - softmax (Second Stage)\n",
    "#### Loss funtion - categorical_crossentropy\n",
    "#### Epoch size - 10\n",
    "#### Batch_size - 100\n",
    "#### Accuracy -  \"\"\"\"\"\" 61.54%\"\"\"\"\"\""
   ]
  },
  {
   "cell_type": "code",
   "execution_count": 12,
   "metadata": {},
   "outputs": [
    {
     "name": "stdout",
     "output_type": "stream",
     "text": [
      "Building model...\n"
     ]
    },
    {
     "name": "stderr",
     "output_type": "stream",
     "text": [
      "/usr/local/anaconda/python3/lib/python3.6/site-packages/keras/models.py:981: UserWarning: The `nb_epoch` argument in `fit` has been renamed `epochs`.\n",
      "  warnings.warn('The `nb_epoch` argument in `fit` '\n"
     ]
    },
    {
     "name": "stdout",
     "output_type": "stream",
     "text": [
      "Train on 22500 samples, validate on 2500 samples\n",
      "Epoch 1/10\n",
      "22500/22500 [==============================] - 9s 397us/step - loss: 0.3274 - val_loss: 0.2722\n",
      "Epoch 2/10\n",
      "22500/22500 [==============================] - 9s 386us/step - loss: 0.1716 - val_loss: 0.2919\n",
      "Epoch 3/10\n",
      "22500/22500 [==============================] - 9s 385us/step - loss: 0.0955 - val_loss: 0.3320\n",
      "Epoch 4/10\n",
      "22500/22500 [==============================] - 9s 386us/step - loss: 0.0423 - val_loss: 0.4080\n",
      "Epoch 5/10\n",
      "22500/22500 [==============================] - 9s 387us/step - loss: 0.0172 - val_loss: 0.4573\n",
      "Epoch 6/10\n",
      "22500/22500 [==============================] - 9s 387us/step - loss: 0.0082 - val_loss: 0.4941\n",
      "Epoch 7/10\n",
      "22500/22500 [==============================] - 9s 385us/step - loss: 0.0039 - val_loss: 0.5429\n",
      "Epoch 8/10\n",
      "22500/22500 [==============================] - 9s 385us/step - loss: 0.0030 - val_loss: 0.5722\n",
      "Epoch 9/10\n",
      "22500/22500 [==============================] - 9s 386us/step - loss: 0.0018 - val_loss: 0.5941\n",
      "Epoch 10/10\n",
      "22500/22500 [==============================] - 9s 385us/step - loss: 0.0014 - val_loss: 0.5957\n",
      "25000/25000 [==============================] - 2s 80us/step\n",
      "Test score: 0.626847123324871\n",
      "Test accuracy: 0.626847123324871\n"
     ]
    }
   ],
   "source": [
    "#Build the model\n",
    "print('Building model...')\n",
    "model = Sequential()\n",
    "model.add(Dense(512, input_shape=(max_words,)))\n",
    "model.add(Activation('relu'))\n",
    "model.add(Dropout(0.5))\n",
    "model.add(Dense(nb_classes))\n",
    "model.add(Activation('softmax'))\n",
    "#compile the model\n",
    "model.compile(loss='categorical_crossentropy',\n",
    "              optimizer='adam',\n",
    "              )\n",
    "#Fit the model with the training data\n",
    "history = model.fit(X_train, Y_train,\n",
    "                    nb_epoch=nb_epoch, batch_size=batch_size,\n",
    "                    verbose=1, validation_split=0.1)\n",
    "#evaluate the model\n",
    "score = model.evaluate(X_test, Y_test,\n",
    "                       batch_size=batch_size, verbose=1)\n",
    "print('Test score:', score)\n",
    "print('Test accuracy:', score)"
   ]
  },
  {
   "cell_type": "markdown",
   "metadata": {},
   "source": [
    "### Building model with below parameters (Changing few of them):\n",
    "#### Activation funtion - relu (First Stage)\n",
    "#### Activation funtion - softmax (Second Stage)\n",
    "#### Loss funtion - binary_crossentropy\n",
    "#### Epoch size - 20\n",
    "#### Batch_size - 100\n",
    "#### Accuracy -  \"\"\"\"\"\" 86.88%\"\"\"\"\"\""
   ]
  },
  {
   "cell_type": "code",
   "execution_count": 13,
   "metadata": {},
   "outputs": [
    {
     "name": "stderr",
     "output_type": "stream",
     "text": [
      "/usr/local/anaconda/python3/lib/python3.6/site-packages/keras/models.py:981: UserWarning: The `nb_epoch` argument in `fit` has been renamed `epochs`.\n",
      "  warnings.warn('The `nb_epoch` argument in `fit` '\n"
     ]
    },
    {
     "name": "stdout",
     "output_type": "stream",
     "text": [
      "Train on 22500 samples, validate on 2500 samples\n",
      "Epoch 1/20\n",
      "22500/22500 [==============================] - 9s 414us/step - loss: 0.3280 - acc: 0.8592 - val_loss: 0.2711 - val_acc: 0.8904\n",
      "Epoch 2/20\n",
      "22500/22500 [==============================] - 9s 388us/step - loss: 0.1698 - acc: 0.9346 - val_loss: 0.3082 - val_acc: 0.8848\n",
      "Epoch 3/20\n",
      "22500/22500 [==============================] - 9s 387us/step - loss: 0.0936 - acc: 0.9676 - val_loss: 0.3403 - val_acc: 0.8832\n",
      "Epoch 4/20\n",
      "22500/22500 [==============================] - 9s 389us/step - loss: 0.0442 - acc: 0.9872 - val_loss: 0.3998 - val_acc: 0.8812\n",
      "Epoch 5/20\n",
      "22500/22500 [==============================] - 9s 389us/step - loss: 0.0183 - acc: 0.9967 - val_loss: 0.4491 - val_acc: 0.8876\n",
      "Epoch 6/20\n",
      "22500/22500 [==============================] - 9s 387us/step - loss: 0.0076 - acc: 0.9994 - val_loss: 0.5029 - val_acc: 0.8824\n",
      "Epoch 7/20\n",
      "22500/22500 [==============================] - 9s 387us/step - loss: 0.0035 - acc: 0.9998 - val_loss: 0.5482 - val_acc: 0.8852\n",
      "Epoch 8/20\n",
      "22500/22500 [==============================] - 9s 389us/step - loss: 0.0025 - acc: 0.9999 - val_loss: 0.5787 - val_acc: 0.8836\n",
      "Epoch 9/20\n",
      "22500/22500 [==============================] - 9s 386us/step - loss: 0.0015 - acc: 1.0000 - val_loss: 0.5971 - val_acc: 0.8840\n",
      "Epoch 10/20\n",
      "22500/22500 [==============================] - 9s 388us/step - loss: 0.0010 - acc: 1.0000 - val_loss: 0.6337 - val_acc: 0.8856\n",
      "Epoch 11/20\n",
      "22500/22500 [==============================] - 9s 388us/step - loss: 8.5340e-04 - acc: 1.0000 - val_loss: 0.6169 - val_acc: 0.8852\n",
      "Epoch 12/20\n",
      "22500/22500 [==============================] - 9s 389us/step - loss: 7.5968e-04 - acc: 1.0000 - val_loss: 0.6541 - val_acc: 0.8856\n",
      "Epoch 13/20\n",
      "22500/22500 [==============================] - 9s 388us/step - loss: 5.9732e-04 - acc: 1.0000 - val_loss: 0.6644 - val_acc: 0.8832\n",
      "Epoch 14/20\n",
      "22500/22500 [==============================] - 9s 388us/step - loss: 5.4049e-04 - acc: 1.0000 - val_loss: 0.6701 - val_acc: 0.8872\n",
      "Epoch 15/20\n",
      "22500/22500 [==============================] - 9s 389us/step - loss: 4.0255e-04 - acc: 1.0000 - val_loss: 0.6970 - val_acc: 0.8848\n",
      "Epoch 16/20\n",
      "22500/22500 [==============================] - 9s 386us/step - loss: 2.3054e-04 - acc: 1.0000 - val_loss: 0.7166 - val_acc: 0.8840\n",
      "Epoch 17/20\n",
      "22500/22500 [==============================] - 9s 387us/step - loss: 2.2066e-04 - acc: 1.0000 - val_loss: 0.7146 - val_acc: 0.8836\n",
      "Epoch 18/20\n",
      "22500/22500 [==============================] - 9s 387us/step - loss: 0.0603 - acc: 0.9792 - val_loss: 0.5563 - val_acc: 0.8772\n",
      "Epoch 19/20\n",
      "22500/22500 [==============================] - 9s 387us/step - loss: 0.0242 - acc: 0.9920 - val_loss: 0.5653 - val_acc: 0.8856\n",
      "Epoch 20/20\n",
      "22500/22500 [==============================] - 9s 387us/step - loss: 0.0053 - acc: 0.9987 - val_loss: 0.6290 - val_acc: 0.8880\n",
      "25000/25000 [==============================] - 2s 81us/step\n",
      "acc: 87.06%\n"
     ]
    }
   ],
   "source": [
    "# Extending the first model with activation functions\n",
    "model = Sequential()\n",
    "#specifying activation functions\n",
    "model.add(Dense(512, input_shape=(max_words,), activation='relu'))\n",
    "model.add(Dropout(0.5))\n",
    "model.add(Dense(nb_classes))\n",
    "model.add(Activation('softmax'))\n",
    "\n",
    "# Compile model\n",
    "model.compile(loss='binary_crossentropy', optimizer='adam', metrics=['accuracy'])\n",
    "# Fit the model\n",
    "model.fit(X_train, Y_train, nb_epoch=20, batch_size=batch_size,  verbose=1, validation_split=0.1)\n",
    "# evaluate the model\n",
    "scores = model.evaluate(X_test, Y_test,batch_size=batch_size, verbose=1)\n",
    "print(\"%s: %.2f%%\" % (model.metrics_names[1], scores[1]*100))"
   ]
  },
  {
   "cell_type": "markdown",
   "metadata": {},
   "source": [
    "### Observation from above:: Epoch after 10 seems to be overfitting"
   ]
  },
  {
   "cell_type": "markdown",
   "metadata": {},
   "source": [
    "### Building model with below parameters (Changing few of them):\n",
    "#### Activation funtion - relu (First Stage)\n",
    "#### Activation funtion - softmax (Second Stage)\n",
    "#### Loss funtion - binary_crossentropy\n",
    "#### Epoch size - 10\n",
    "#### Batch_size - 100\n",
    "#### Accuracy -  \"\"\"\"\"\" 86.91%\"\"\"\"\"\""
   ]
  },
  {
   "cell_type": "code",
   "execution_count": 14,
   "metadata": {},
   "outputs": [
    {
     "name": "stderr",
     "output_type": "stream",
     "text": [
      "/usr/local/anaconda/python3/lib/python3.6/site-packages/keras/models.py:981: UserWarning: The `nb_epoch` argument in `fit` has been renamed `epochs`.\n",
      "  warnings.warn('The `nb_epoch` argument in `fit` '\n"
     ]
    },
    {
     "name": "stdout",
     "output_type": "stream",
     "text": [
      "Train on 22500 samples, validate on 2500 samples\n",
      "Epoch 1/10\n",
      "22500/22500 [==============================] - 9s 405us/step - loss: 0.3291 - acc: 0.8598 - val_loss: 0.2811 - val_acc: 0.8860\n",
      "Epoch 2/10\n",
      "22500/22500 [==============================] - 9s 388us/step - loss: 0.1675 - acc: 0.9355 - val_loss: 0.2909 - val_acc: 0.8856\n",
      "Epoch 3/10\n",
      "22500/22500 [==============================] - 9s 387us/step - loss: 0.0944 - acc: 0.9679 - val_loss: 0.3424 - val_acc: 0.8856\n",
      "Epoch 4/10\n",
      "22500/22500 [==============================] - 9s 387us/step - loss: 0.0421 - acc: 0.9892 - val_loss: 0.3878 - val_acc: 0.8812\n",
      "Epoch 5/10\n",
      "22500/22500 [==============================] - 9s 388us/step - loss: 0.0179 - acc: 0.9966 - val_loss: 0.4699 - val_acc: 0.8820\n",
      "Epoch 6/10\n",
      "22500/22500 [==============================] - 9s 387us/step - loss: 0.0074 - acc: 0.9990 - val_loss: 0.5107 - val_acc: 0.8812\n",
      "Epoch 7/10\n",
      "22500/22500 [==============================] - 9s 388us/step - loss: 0.0040 - acc: 0.9998 - val_loss: 0.5390 - val_acc: 0.8804\n",
      "Epoch 8/10\n",
      "22500/22500 [==============================] - 9s 389us/step - loss: 0.0028 - acc: 0.9999 - val_loss: 0.5792 - val_acc: 0.8816\n",
      "Epoch 9/10\n",
      "22500/22500 [==============================] - 9s 390us/step - loss: 0.0018 - acc: 0.9999 - val_loss: 0.5976 - val_acc: 0.8840\n",
      "Epoch 10/10\n",
      "22500/22500 [==============================] - 9s 392us/step - loss: 0.0013 - acc: 0.9999 - val_loss: 0.6157 - val_acc: 0.8852\n",
      "25000/25000 [==============================] - 2s 77us/step\n",
      "acc: 86.84%\n"
     ]
    }
   ],
   "source": [
    "# Extending the first model with activation functions\n",
    "model = Sequential()\n",
    "#specifying activation functions\n",
    "model.add(Dense(512, input_shape=(max_words,), activation='relu'))\n",
    "model.add(Dropout(0.5))\n",
    "model.add(Dense(nb_classes))\n",
    "model.add(Activation('softmax'))\n",
    "\n",
    "# Compile model\n",
    "model.compile(loss='binary_crossentropy', optimizer='adam', metrics=['accuracy'])\n",
    "# Fit the model\n",
    "model.fit(X_train, Y_train, nb_epoch=nb_epoch, batch_size=batch_size,  verbose=1, validation_split=0.1)\n",
    "# evaluate the model\n",
    "scores = model.evaluate(X_test, Y_test,batch_size=batch_size, verbose=1)\n",
    "print(\"%s: %.2f%%\" % (model.metrics_names[1], scores[1]*100))"
   ]
  },
  {
   "cell_type": "markdown",
   "metadata": {
    "collapsed": true
   },
   "source": [
    "### 1. Model used two dense layers.\n",
    "### 2. Activation function \"relu\" in one layer and \"softmax\" in the other\n",
    "### 3. Hidden unit - Loss function :: Tried \"categorical_crossentropy\" and \"binary_crossentropy\""
   ]
  },
  {
   "cell_type": "markdown",
   "metadata": {},
   "source": [
    "## Classifying movie reviews - Part 2"
   ]
  },
  {
   "cell_type": "markdown",
   "metadata": {},
   "source": [
    "### '''Trains an LSTM model on the IMDB sentiment classification task. -> Model A"
   ]
  },
  {
   "cell_type": "markdown",
   "metadata": {},
   "source": [
    "** Optimizer :: adam  **                                                                                                       \n",
    "** Activation Function :: Sigmoid **\n",
    "* Test accuracy: 0.82548\n"
   ]
  },
  {
   "cell_type": "code",
   "execution_count": 24,
   "metadata": {
    "collapsed": true
   },
   "outputs": [],
   "source": [
    "from __future__ import print_function\n",
    "from __future__ import absolute_import\n",
    "import numpy as np\n",
    "np.random.seed(1337)  # for reproducibility"
   ]
  },
  {
   "cell_type": "code",
   "execution_count": 42,
   "metadata": {},
   "outputs": [],
   "source": [
    "from __future__ import print_function\n",
    "\n",
    "from keras.preprocessing import sequence\n",
    "from keras.models import Sequential\n",
    "from keras.layers import Dense, Embedding\n",
    "from keras.layers import LSTM\n",
    "from keras.datasets import imdb\n",
    "from keras.layers import Dense, Dropout, Activation"
   ]
  },
  {
   "cell_type": "code",
   "execution_count": 114,
   "metadata": {
    "collapsed": true
   },
   "outputs": [],
   "source": [
    "max_features = 10000  # vocabulary size\n",
    "maxlen = 100  # maximum length of the review\n",
    "batch_size = 32\n",
    "embedding_dims = 20\n",
    "ngram_filters = [3, 5, 7]\n",
    "nb_filter = 1200  # number of filters for each ngram_filter\n",
    "nb_epoch = 5"
   ]
  },
  {
   "cell_type": "code",
   "execution_count": 115,
   "metadata": {
    "collapsed": true
   },
   "outputs": [],
   "source": [
    "(X_train, y_train), (X_test, y_test) = imdb.load_data(path=\"imdb.npz\",\n",
    "                                                      num_words=max_features,\n",
    "                                                      skip_top=0,\n",
    "                                                      maxlen=None,\n",
    "                                                      seed=113,\n",
    "                                                      start_char=1,\n",
    "                                                      oov_char=2,\n",
    "                                                      index_from=3)"
   ]
  },
  {
   "cell_type": "code",
   "execution_count": 116,
   "metadata": {},
   "outputs": [
    {
     "name": "stdout",
     "output_type": "stream",
     "text": [
      "25000 train sequences\n",
      "25000 test sequences\n"
     ]
    }
   ],
   "source": [
    "print(len(X_train), 'train sequences')\n",
    "print(len(X_test), 'test sequences')"
   ]
  },
  {
   "cell_type": "code",
   "execution_count": 117,
   "metadata": {},
   "outputs": [
    {
     "name": "stdout",
     "output_type": "stream",
     "text": [
      "Pad sequences (samples x time)\n",
      "X_train shape: (25000, 100)\n",
      "X_test shape: (25000, 100)\n"
     ]
    }
   ],
   "source": [
    "print('Pad sequences (samples x time)')\n",
    "X_train = sequence.pad_sequences(X_train, maxlen=maxlen)\n",
    "X_test = sequence.pad_sequences(X_test, maxlen=maxlen)\n",
    "print('X_train shape:', X_train.shape)\n",
    "print('X_test shape:', X_test.shape)"
   ]
  },
  {
   "cell_type": "code",
   "execution_count": 27,
   "metadata": {},
   "outputs": [
    {
     "name": "stdout",
     "output_type": "stream",
     "text": [
      "Build model...\n"
     ]
    }
   ],
   "source": [
    "print('Build model...')\n",
    "model = Sequential()\n",
    "model.add(Embedding(max_features, 128))\n",
    "model.add(LSTM(128, dropout=0.2, recurrent_dropout=0.2))\n",
    "model.add(Dense(1, activation='sigmoid'))"
   ]
  },
  {
   "cell_type": "code",
   "execution_count": 28,
   "metadata": {
    "collapsed": true
   },
   "outputs": [],
   "source": [
    "model.compile(loss='binary_crossentropy',\n",
    "              optimizer='adam',\n",
    "              metrics=['accuracy'])"
   ]
  },
  {
   "cell_type": "code",
   "execution_count": 32,
   "metadata": {},
   "outputs": [
    {
     "name": "stdout",
     "output_type": "stream",
     "text": [
      "Train...\n",
      "Train on 25000 samples, validate on 25000 samples\n",
      "Epoch 1/15\n",
      "25000/25000 [==============================] - 101s 4ms/step - loss: 0.4594 - acc: 0.7824 - val_loss: 0.3814 - val_acc: 0.8333\n",
      "Epoch 2/15\n",
      "25000/25000 [==============================] - 101s 4ms/step - loss: 0.3314 - acc: 0.8607 - val_loss: 0.3730 - val_acc: 0.8335\n",
      "Epoch 3/15\n",
      "25000/25000 [==============================] - 101s 4ms/step - loss: 0.2659 - acc: 0.8925 - val_loss: 0.3788 - val_acc: 0.8419\n",
      "Epoch 4/15\n",
      "25000/25000 [==============================] - 101s 4ms/step - loss: 0.2088 - acc: 0.9172 - val_loss: 0.3899 - val_acc: 0.8388\n",
      "Epoch 5/15\n",
      "25000/25000 [==============================] - 101s 4ms/step - loss: 0.1646 - acc: 0.9378 - val_loss: 0.4428 - val_acc: 0.8318\n",
      "Epoch 6/15\n",
      "25000/25000 [==============================] - 101s 4ms/step - loss: 0.1289 - acc: 0.9526 - val_loss: 0.5468 - val_acc: 0.8395\n",
      "Epoch 7/15\n",
      "25000/25000 [==============================] - 101s 4ms/step - loss: 0.1043 - acc: 0.9625 - val_loss: 0.6212 - val_acc: 0.8285\n",
      "Epoch 8/15\n",
      "25000/25000 [==============================] - 101s 4ms/step - loss: 0.0847 - acc: 0.9705 - val_loss: 0.5765 - val_acc: 0.8388\n",
      "Epoch 9/15\n",
      "25000/25000 [==============================] - 101s 4ms/step - loss: 0.0728 - acc: 0.9751 - val_loss: 0.6320 - val_acc: 0.8174\n",
      "Epoch 10/15\n",
      "25000/25000 [==============================] - 101s 4ms/step - loss: 0.0552 - acc: 0.9816 - val_loss: 0.7060 - val_acc: 0.8329\n",
      "Epoch 11/15\n",
      "25000/25000 [==============================] - 101s 4ms/step - loss: 0.0429 - acc: 0.9855 - val_loss: 0.7187 - val_acc: 0.8289\n",
      "Epoch 12/15\n",
      "25000/25000 [==============================] - 101s 4ms/step - loss: 0.0363 - acc: 0.9884 - val_loss: 0.7828 - val_acc: 0.8298\n",
      "Epoch 13/15\n",
      "25000/25000 [==============================] - 101s 4ms/step - loss: 0.0288 - acc: 0.9906 - val_loss: 0.8804 - val_acc: 0.8231\n",
      "Epoch 14/15\n",
      "25000/25000 [==============================] - 101s 4ms/step - loss: 0.0294 - acc: 0.9903 - val_loss: 0.8656 - val_acc: 0.8323\n",
      "Epoch 15/15\n",
      "25000/25000 [==============================] - 101s 4ms/step - loss: 0.0190 - acc: 0.9936 - val_loss: 0.8909 - val_acc: 0.8255\n",
      "25000/25000 [==============================] - 16s 648us/step\n"
     ]
    }
   ],
   "source": [
    "print('Train...')\n",
    "model.fit(X_train, y_train,\n",
    "          batch_size=batch_size,\n",
    "          epochs=15,\n",
    "          validation_data=(X_test, y_test))\n",
    "score, acc = model.evaluate(X_test, y_test,\n",
    "                            batch_size=batch_size)"
   ]
  },
  {
   "cell_type": "code",
   "execution_count": 33,
   "metadata": {},
   "outputs": [
    {
     "name": "stdout",
     "output_type": "stream",
     "text": [
      "Test score: 0.890866581236124\n",
      "Test accuracy: 0.82548\n"
     ]
    }
   ],
   "source": [
    "print('Test score:', score)\n",
    "print('Test accuracy:', acc)"
   ]
  },
  {
   "cell_type": "markdown",
   "metadata": {},
   "source": [
    "### '''Trains a Bidirectional LSTM on the IMDB sentiment classification task. -> Model B"
   ]
  },
  {
   "cell_type": "markdown",
   "metadata": {},
   "source": [
    "### Testing accuracy on various optimizers with Bidirectional LSTM"
   ]
  },
  {
   "cell_type": "markdown",
   "metadata": {},
   "source": [
    "** Adadelta ** Test accuracy: 0.79672"
   ]
  },
  {
   "cell_type": "code",
   "execution_count": 26,
   "metadata": {
    "collapsed": true
   },
   "outputs": [],
   "source": [
    "from keras.layers import Dense, Dropout, Embedding, LSTM, Bidirectional"
   ]
  },
  {
   "cell_type": "code",
   "execution_count": 37,
   "metadata": {},
   "outputs": [],
   "source": [
    "model = Sequential()\n",
    "model.add(Embedding(max_features, 128, input_length=maxlen))\n",
    "model.add(Bidirectional(LSTM(64)))\n",
    "model.add(Dropout(0.5))\n",
    "model.add(Dense(1, activation='relu'))"
   ]
  },
  {
   "cell_type": "code",
   "execution_count": 38,
   "metadata": {
    "collapsed": true
   },
   "outputs": [],
   "source": [
    "model.compile('Adadelta', 'binary_crossentropy', metrics=['accuracy'])"
   ]
  },
  {
   "cell_type": "code",
   "execution_count": 40,
   "metadata": {},
   "outputs": [
    {
     "name": "stdout",
     "output_type": "stream",
     "text": [
      "Train...\n",
      "Train on 25000 samples, validate on 25000 samples\n",
      "Epoch 1/4\n",
      "25000/25000 [==============================] - 90s 4ms/step - loss: 0.6069 - acc: 0.7207 - val_loss: 1.6669 - val_acc: 0.5370\n",
      "Epoch 2/4\n",
      "25000/25000 [==============================] - 89s 4ms/step - loss: 0.4809 - acc: 0.8053 - val_loss: 0.4217 - val_acc: 0.8292\n",
      "Epoch 3/4\n",
      "25000/25000 [==============================] - 91s 4ms/step - loss: 0.4814 - acc: 0.7902 - val_loss: 0.6171 - val_acc: 0.7465\n",
      "Epoch 4/4\n",
      "25000/25000 [==============================] - 90s 4ms/step - loss: 0.4278 - acc: 0.7940 - val_loss: 0.5931 - val_acc: 0.7967\n"
     ]
    },
    {
     "data": {
      "text/plain": [
       "<keras.callbacks.History at 0x7f7e2ddfaef0>"
      ]
     },
     "execution_count": 40,
     "metadata": {},
     "output_type": "execute_result"
    }
   ],
   "source": [
    "print('Train...')\n",
    "model.fit(X_train, y_train,\n",
    "          batch_size=batch_size,\n",
    "          epochs=4,\n",
    "          validation_data=[X_test, y_test])"
   ]
  },
  {
   "cell_type": "code",
   "execution_count": 41,
   "metadata": {},
   "outputs": [
    {
     "name": "stdout",
     "output_type": "stream",
     "text": [
      "25000/25000 [==============================] - 14s 554us/step\n"
     ]
    }
   ],
   "source": [
    "score, acc = model.evaluate(X_test, y_test,\n",
    "                            batch_size=batch_size)"
   ]
  },
  {
   "cell_type": "code",
   "execution_count": 42,
   "metadata": {},
   "outputs": [
    {
     "name": "stdout",
     "output_type": "stream",
     "text": [
      "Test score: 0.5931240715789795\n",
      "Test accuracy: 0.79672\n"
     ]
    }
   ],
   "source": [
    "print('Test score:', score)\n",
    "print('Test accuracy:', acc)"
   ]
  },
  {
   "cell_type": "markdown",
   "metadata": {},
   "source": [
    "** Optimizer :: SGD  **                                                                                                       \n",
    "** Activation Function :: Sigmoid **\n",
    "* Test accuracy: 0.54444\n"
   ]
  },
  {
   "cell_type": "code",
   "execution_count": 44,
   "metadata": {},
   "outputs": [
    {
     "name": "stdout",
     "output_type": "stream",
     "text": [
      "Train...\n",
      "Train on 25000 samples, validate on 25000 samples\n",
      "Epoch 1/4\n",
      "25000/25000 [==============================] - 85s 3ms/step - loss: 0.6930 - acc: 0.5085 - val_loss: 0.6927 - val_acc: 0.5272\n",
      "Epoch 2/4\n",
      "25000/25000 [==============================] - 84s 3ms/step - loss: 0.6926 - acc: 0.5186 - val_loss: 0.6924 - val_acc: 0.5214\n",
      "Epoch 3/4\n",
      "25000/25000 [==============================] - 84s 3ms/step - loss: 0.6921 - acc: 0.5285 - val_loss: 0.6922 - val_acc: 0.5129\n",
      "Epoch 4/4\n",
      "25000/25000 [==============================] - 84s 3ms/step - loss: 0.6919 - acc: 0.5306 - val_loss: 0.6918 - val_acc: 0.5444\n"
     ]
    },
    {
     "data": {
      "text/plain": [
       "<keras.callbacks.History at 0x7f7d687fb198>"
      ]
     },
     "execution_count": 44,
     "metadata": {},
     "output_type": "execute_result"
    }
   ],
   "source": [
    "model = Sequential()\n",
    "model.add(Embedding(max_features, 128, input_length=maxlen))\n",
    "model.add(Bidirectional(LSTM(64)))\n",
    "model.add(Dropout(0.5))\n",
    "model.add(Dense(1, activation='sigmoid'))\n",
    "\n",
    "# try using different optimizers and different optimizer configs\n",
    "model.compile('SGD', 'binary_crossentropy', metrics=['accuracy'])\n",
    "\n",
    "print('Train...')\n",
    "model.fit(X_train, y_train,\n",
    "          batch_size=batch_size,\n",
    "          epochs=4,\n",
    "          validation_data=[X_test, y_test])"
   ]
  },
  {
   "cell_type": "code",
   "execution_count": 45,
   "metadata": {},
   "outputs": [
    {
     "name": "stdout",
     "output_type": "stream",
     "text": [
      "25000/25000 [==============================] - 13s 539us/step\n"
     ]
    }
   ],
   "source": [
    "score, acc = model.evaluate(X_test, y_test,\n",
    "                            batch_size=batch_size)"
   ]
  },
  {
   "cell_type": "code",
   "execution_count": 46,
   "metadata": {},
   "outputs": [
    {
     "name": "stdout",
     "output_type": "stream",
     "text": [
      "Test score: 0.6918430708122253\n",
      "Test accuracy: 0.54444\n"
     ]
    }
   ],
   "source": [
    "print('Test score:', score)\n",
    "print('Test accuracy:', acc)"
   ]
  },
  {
   "cell_type": "markdown",
   "metadata": {},
   "source": [
    "** Optimizer :: RMSprop  **                                                                                                     \n",
    "** Activation Function :: relu **\n",
    "* Test accuracy: 0.7098"
   ]
  },
  {
   "cell_type": "code",
   "execution_count": 47,
   "metadata": {},
   "outputs": [
    {
     "name": "stdout",
     "output_type": "stream",
     "text": [
      "Train...\n",
      "Train on 25000 samples, validate on 25000 samples\n",
      "Epoch 1/4\n",
      "25000/25000 [==============================] - 90s 4ms/step - loss: 0.6739 - acc: 0.7157 - val_loss: 0.5186 - val_acc: 0.7859\n",
      "Epoch 2/4\n",
      "25000/25000 [==============================] - 88s 4ms/step - loss: 0.5990 - acc: 0.7330 - val_loss: 0.5479 - val_acc: 0.7154\n",
      "Epoch 3/4\n",
      "25000/25000 [==============================] - 88s 4ms/step - loss: 0.5092 - acc: 0.7506 - val_loss: 0.6176 - val_acc: 0.7433\n",
      "Epoch 4/4\n",
      "25000/25000 [==============================] - 89s 4ms/step - loss: 0.4976 - acc: 0.7277 - val_loss: 2.0009 - val_acc: 0.7098\n"
     ]
    },
    {
     "data": {
      "text/plain": [
       "<keras.callbacks.History at 0x7f7d678e0320>"
      ]
     },
     "execution_count": 47,
     "metadata": {},
     "output_type": "execute_result"
    }
   ],
   "source": [
    "model = Sequential()\n",
    "model.add(Embedding(max_features, 128, input_length=maxlen))\n",
    "model.add(Bidirectional(LSTM(64)))\n",
    "model.add(Dropout(0.5))\n",
    "model.add(Dense(1, activation='relu'))\n",
    "\n",
    "# try using different optimizers and different optimizer configs\n",
    "model.compile('RMSprop', 'binary_crossentropy', metrics=['accuracy'])\n",
    "\n",
    "print('Train...')\n",
    "model.fit(X_train, y_train,\n",
    "          batch_size=batch_size,\n",
    "          epochs=4,\n",
    "          validation_data=[X_test, y_test])"
   ]
  },
  {
   "cell_type": "code",
   "execution_count": 48,
   "metadata": {},
   "outputs": [
    {
     "name": "stdout",
     "output_type": "stream",
     "text": [
      "25000/25000 [==============================] - 14s 541us/step\n"
     ]
    }
   ],
   "source": [
    "score, acc = model.evaluate(X_test, y_test,\n",
    "                            batch_size=batch_size)"
   ]
  },
  {
   "cell_type": "code",
   "execution_count": 49,
   "metadata": {},
   "outputs": [
    {
     "name": "stdout",
     "output_type": "stream",
     "text": [
      "Test score: 2.0009261404418943\n",
      "Test accuracy: 0.7098\n"
     ]
    }
   ],
   "source": [
    "print('Test score:', score)\n",
    "print('Test accuracy:', acc)"
   ]
  },
  {
   "cell_type": "markdown",
   "metadata": {},
   "source": [
    "** Optimizer :: SGD  **                                                                                                     \n",
    "** Activation Function :: relu **\n",
    "* Test accuracy: 0.57212"
   ]
  },
  {
   "cell_type": "code",
   "execution_count": 50,
   "metadata": {},
   "outputs": [
    {
     "name": "stdout",
     "output_type": "stream",
     "text": [
      "Train...\n",
      "Train on 25000 samples, validate on 25000 samples\n",
      "Epoch 1/4\n",
      "25000/25000 [==============================] - 86s 3ms/step - loss: 0.7200 - acc: 0.5134 - val_loss: 0.6923 - val_acc: 0.5149\n",
      "Epoch 2/4\n",
      "25000/25000 [==============================] - 84s 3ms/step - loss: 0.6921 - acc: 0.5228 - val_loss: 0.6909 - val_acc: 0.5140\n",
      "Epoch 3/4\n",
      "25000/25000 [==============================] - 84s 3ms/step - loss: 0.6896 - acc: 0.5309 - val_loss: 0.6870 - val_acc: 0.5650\n",
      "Epoch 4/4\n",
      "25000/25000 [==============================] - 84s 3ms/step - loss: 0.6865 - acc: 0.5452 - val_loss: 0.6844 - val_acc: 0.5721\n"
     ]
    },
    {
     "data": {
      "text/plain": [
       "<keras.callbacks.History at 0x7f7d63748fd0>"
      ]
     },
     "execution_count": 50,
     "metadata": {},
     "output_type": "execute_result"
    }
   ],
   "source": [
    "model = Sequential()\n",
    "model.add(Embedding(max_features, 128, input_length=maxlen))\n",
    "model.add(Bidirectional(LSTM(64)))\n",
    "model.add(Dropout(0.5))\n",
    "model.add(Dense(1, activation='relu'))\n",
    "\n",
    "# try using different optimizers and different optimizer configs\n",
    "model.compile('SGD', 'binary_crossentropy', metrics=['accuracy'])\n",
    "\n",
    "print('Train...')\n",
    "model.fit(X_train, y_train,\n",
    "          batch_size=batch_size,\n",
    "          epochs=4,\n",
    "          validation_data=[X_test, y_test])"
   ]
  },
  {
   "cell_type": "code",
   "execution_count": 51,
   "metadata": {},
   "outputs": [
    {
     "name": "stdout",
     "output_type": "stream",
     "text": [
      "25000/25000 [==============================] - 14s 543us/step\n"
     ]
    }
   ],
   "source": [
    "score, acc = model.evaluate(X_test, y_test,\n",
    "                            batch_size=batch_size)"
   ]
  },
  {
   "cell_type": "code",
   "execution_count": 52,
   "metadata": {},
   "outputs": [
    {
     "name": "stdout",
     "output_type": "stream",
     "text": [
      "Test score: 0.6843665870285034\n",
      "Test accuracy: 0.57212\n"
     ]
    }
   ],
   "source": [
    "print('Test score:', score)\n",
    "print('Test accuracy:', acc)"
   ]
  },
  {
   "cell_type": "markdown",
   "metadata": {},
   "source": [
    "** Optimizer :: Adagrad  **                                                                                                     \n",
    "** Activation Function :: relu **\n",
    "* Test accuracy: 0.71636"
   ]
  },
  {
   "cell_type": "code",
   "execution_count": 53,
   "metadata": {},
   "outputs": [
    {
     "name": "stdout",
     "output_type": "stream",
     "text": [
      "Train...\n",
      "Train on 25000 samples, validate on 25000 samples\n",
      "Epoch 1/4\n",
      "25000/25000 [==============================] - 88s 4ms/step - loss: 0.6444 - acc: 0.7292 - val_loss: 0.4783 - val_acc: 0.7928\n",
      "Epoch 2/4\n",
      "25000/25000 [==============================] - 86s 3ms/step - loss: 0.5247 - acc: 0.7363 - val_loss: 0.5088 - val_acc: 0.7707\n",
      "Epoch 3/4\n",
      "25000/25000 [==============================] - 86s 3ms/step - loss: 0.4095 - acc: 0.7996 - val_loss: 0.4991 - val_acc: 0.7729\n",
      "Epoch 4/4\n",
      "25000/25000 [==============================] - 87s 3ms/step - loss: 0.4053 - acc: 0.7893 - val_loss: 0.5698 - val_acc: 0.7164\n"
     ]
    },
    {
     "data": {
      "text/plain": [
       "<keras.callbacks.History at 0x7f7d61ead320>"
      ]
     },
     "execution_count": 53,
     "metadata": {},
     "output_type": "execute_result"
    }
   ],
   "source": [
    "model = Sequential()\n",
    "model.add(Embedding(max_features, 128, input_length=maxlen))\n",
    "model.add(Bidirectional(LSTM(64)))\n",
    "model.add(Dropout(0.5))\n",
    "model.add(Dense(1, activation='relu'))\n",
    "\n",
    "# try using different optimizers and different optimizer configs\n",
    "model.compile('Adagrad', 'binary_crossentropy', metrics=['accuracy'])\n",
    "\n",
    "print('Train...')\n",
    "model.fit(X_train, y_train,\n",
    "          batch_size=batch_size,\n",
    "          epochs=4,\n",
    "          validation_data=[X_test, y_test])"
   ]
  },
  {
   "cell_type": "code",
   "execution_count": 54,
   "metadata": {},
   "outputs": [
    {
     "name": "stdout",
     "output_type": "stream",
     "text": [
      "25000/25000 [==============================] - 14s 541us/step\n"
     ]
    }
   ],
   "source": [
    "score, acc = model.evaluate(X_test, y_test,\n",
    "                            batch_size=batch_size)"
   ]
  },
  {
   "cell_type": "code",
   "execution_count": 55,
   "metadata": {},
   "outputs": [
    {
     "name": "stdout",
     "output_type": "stream",
     "text": [
      "Test score: 0.5697923965454101\n",
      "Test accuracy: 0.71636\n"
     ]
    }
   ],
   "source": [
    "print('Test score:', score)\n",
    "print('Test accuracy:', acc)"
   ]
  },
  {
   "cell_type": "markdown",
   "metadata": {},
   "source": [
    "** Optimizer :: Adamax  **                                                                                                     \n",
    "** Activation Function :: relu **\n",
    "* Test accuracy: 0.75692"
   ]
  },
  {
   "cell_type": "code",
   "execution_count": 56,
   "metadata": {},
   "outputs": [
    {
     "name": "stdout",
     "output_type": "stream",
     "text": [
      "Train...\n",
      "Train on 25000 samples, validate on 25000 samples\n",
      "Epoch 1/4\n",
      "25000/25000 [==============================] - 89s 4ms/step - loss: 0.5763 - acc: 0.7009 - val_loss: 0.4671 - val_acc: 0.7398\n",
      "Epoch 2/4\n",
      "25000/25000 [==============================] - 88s 4ms/step - loss: 0.4232 - acc: 0.7668 - val_loss: 0.4689 - val_acc: 0.7756\n",
      "Epoch 3/4\n",
      "25000/25000 [==============================] - 89s 4ms/step - loss: 0.3765 - acc: 0.7675 - val_loss: 0.4229 - val_acc: 0.8231\n",
      "Epoch 4/4\n",
      "25000/25000 [==============================] - 89s 4ms/step - loss: 0.3412 - acc: 0.7854 - val_loss: 0.4675 - val_acc: 0.7569\n"
     ]
    },
    {
     "data": {
      "text/plain": [
       "<keras.callbacks.History at 0x7f7d5edfcef0>"
      ]
     },
     "execution_count": 56,
     "metadata": {},
     "output_type": "execute_result"
    }
   ],
   "source": [
    "model = Sequential()\n",
    "model.add(Embedding(max_features, 128, input_length=maxlen))\n",
    "model.add(Bidirectional(LSTM(64)))\n",
    "model.add(Dropout(0.5))\n",
    "model.add(Dense(1, activation='relu'))\n",
    "\n",
    "# try using different optimizers and different optimizer configs\n",
    "model.compile('Adamax', 'binary_crossentropy', metrics=['accuracy'])\n",
    "\n",
    "print('Train...')\n",
    "model.fit(X_train, y_train,\n",
    "          batch_size=batch_size,\n",
    "          epochs=4,\n",
    "          validation_data=[X_test, y_test])"
   ]
  },
  {
   "cell_type": "code",
   "execution_count": 58,
   "metadata": {},
   "outputs": [
    {
     "name": "stdout",
     "output_type": "stream",
     "text": [
      "25000/25000 [==============================] - 14s 563us/step\n"
     ]
    }
   ],
   "source": [
    "score, acc = model.evaluate(X_test, y_test,\n",
    "                            batch_size=batch_size)"
   ]
  },
  {
   "cell_type": "code",
   "execution_count": 59,
   "metadata": {},
   "outputs": [
    {
     "name": "stdout",
     "output_type": "stream",
     "text": [
      "Test score: 0.4674739478683472\n",
      "Test accuracy: 0.75692\n"
     ]
    }
   ],
   "source": [
    "print('Test score:', score)\n",
    "print('Test accuracy:', acc)"
   ]
  },
  {
   "cell_type": "markdown",
   "metadata": {},
   "source": [
    "** Optimizer :: Adam  **                                                                                                     \n",
    "** Activation Function :: relu **\n",
    "* Test accuracy: 0.76236"
   ]
  },
  {
   "cell_type": "code",
   "execution_count": 118,
   "metadata": {},
   "outputs": [
    {
     "name": "stdout",
     "output_type": "stream",
     "text": [
      "Train...\n",
      "Train on 25000 samples, validate on 25000 samples\n",
      "Epoch 1/4\n",
      "25000/25000 [==============================] - 91s 4ms/step - loss: 0.6501 - acc: 0.6705 - val_loss: 0.5419 - val_acc: 0.7196\n",
      "Epoch 2/4\n",
      "25000/25000 [==============================] - 89s 4ms/step - loss: 0.4962 - acc: 0.7723 - val_loss: 0.5122 - val_acc: 0.7942\n",
      "Epoch 3/4\n",
      "25000/25000 [==============================] - 89s 4ms/step - loss: 0.4127 - acc: 0.8102 - val_loss: 0.5487 - val_acc: 0.7950\n",
      "Epoch 4/4\n",
      "25000/25000 [==============================] - 89s 4ms/step - loss: 0.2889 - acc: 0.7987 - val_loss: 0.7312 - val_acc: 0.7624\n"
     ]
    },
    {
     "data": {
      "text/plain": [
       "<keras.callbacks.History at 0x7f7d33831a58>"
      ]
     },
     "execution_count": 118,
     "metadata": {},
     "output_type": "execute_result"
    }
   ],
   "source": [
    "model = Sequential()\n",
    "model.add(Embedding(max_features, 128, input_length=maxlen))\n",
    "model.add(Bidirectional(LSTM(64)))\n",
    "model.add(Dropout(0.5))\n",
    "model.add(Dense(1, activation='relu'))\n",
    "\n",
    "# try using different optimizers and different optimizer configs\n",
    "model.compile('Adam', 'binary_crossentropy', metrics=['accuracy'])\n",
    "\n",
    "print('Train...')\n",
    "model.fit(X_train, y_train,\n",
    "          batch_size=batch_size,\n",
    "          epochs=4,\n",
    "          validation_data=[X_test, y_test])"
   ]
  },
  {
   "cell_type": "code",
   "execution_count": 119,
   "metadata": {},
   "outputs": [
    {
     "name": "stdout",
     "output_type": "stream",
     "text": [
      "25000/25000 [==============================] - 14s 545us/step\n"
     ]
    }
   ],
   "source": [
    "score, acc = model.evaluate(X_test, y_test,\n",
    "                            batch_size=batch_size)"
   ]
  },
  {
   "cell_type": "code",
   "execution_count": 120,
   "metadata": {},
   "outputs": [
    {
     "name": "stdout",
     "output_type": "stream",
     "text": [
      "Test score: 0.7311688458299637\n",
      "Test accuracy: 0.76236\n"
     ]
    }
   ],
   "source": [
    "print('Test score:', score)\n",
    "print('Test accuracy:', acc)"
   ]
  },
  {
   "cell_type": "markdown",
   "metadata": {},
   "source": [
    "### \"Relu\" and \"Adam\" seem to give better accuracy(0.76236) but at the same time loss function (0.73116) has increased considerably which in contrary should be low.\n",
    "\n",
    "### \"Relu\" and \"Adamax\" is performing good on accuracy(0.75692) as well as loss function (0.467473)"
   ]
  },
  {
   "cell_type": "markdown",
   "metadata": {},
   "source": [
    "### Using Optimizer \"Adamax\" in the subsequent models"
   ]
  },
  {
   "cell_type": "markdown",
   "metadata": {},
   "source": [
    "### '''Demonstrating the use of Convolution1D for text classification. -> Model C"
   ]
  },
  {
   "cell_type": "markdown",
   "metadata": {},
   "source": [
    "### Test accuracy: 0.89632\n",
    "### Test score: 0.2561"
   ]
  },
  {
   "cell_type": "code",
   "execution_count": 100,
   "metadata": {
    "collapsed": true
   },
   "outputs": [],
   "source": [
    "# set parameters:\n",
    "max_features = 10000\n",
    "maxlen = 400\n",
    "batch_size = 32\n",
    "embedding_dims = 50\n",
    "filters = 250\n",
    "kernel_size = 3\n",
    "hidden_dims = 250\n",
    "epochs = 4"
   ]
  },
  {
   "cell_type": "code",
   "execution_count": 101,
   "metadata": {
    "collapsed": true
   },
   "outputs": [],
   "source": [
    "(X_train, y_train), (X_test, y_test) = imdb.load_data(path=\"imdb.npz\",\n",
    "                                                      num_words=max_features,\n",
    "                                                      skip_top=0,\n",
    "                                                      maxlen=None,\n",
    "                                                      seed=113,\n",
    "                                                      start_char=1,\n",
    "                                                      oov_char=2,\n",
    "                                                      index_from=3)"
   ]
  },
  {
   "cell_type": "code",
   "execution_count": 102,
   "metadata": {},
   "outputs": [
    {
     "name": "stdout",
     "output_type": "stream",
     "text": [
      "25000 train sequences\n",
      "25000 test sequences\n"
     ]
    }
   ],
   "source": [
    "print(len(X_train), 'train sequences')\n",
    "print(len(X_test), 'test sequences')"
   ]
  },
  {
   "cell_type": "code",
   "execution_count": 103,
   "metadata": {},
   "outputs": [
    {
     "name": "stdout",
     "output_type": "stream",
     "text": [
      "Pad sequences (samples x time)\n",
      "X_train shape: (25000, 400)\n",
      "X_test shape: (25000, 400)\n"
     ]
    }
   ],
   "source": [
    "print('Pad sequences (samples x time)')\n",
    "X_train = sequence.pad_sequences(X_train, maxlen=maxlen)\n",
    "X_test = sequence.pad_sequences(X_test, maxlen=maxlen)\n",
    "print('X_train shape:', X_train.shape)\n",
    "print('X_test shape:', X_test.shape)"
   ]
  },
  {
   "cell_type": "code",
   "execution_count": 104,
   "metadata": {
    "collapsed": true
   },
   "outputs": [],
   "source": [
    "from keras.layers import Embedding\n",
    "from keras.layers import Conv1D, GlobalMaxPooling1D"
   ]
  },
  {
   "cell_type": "code",
   "execution_count": 105,
   "metadata": {},
   "outputs": [
    {
     "name": "stdout",
     "output_type": "stream",
     "text": [
      "Build model...\n"
     ]
    }
   ],
   "source": [
    "print('Build model...')\n",
    "model = Sequential()\n",
    "\n",
    "# we start off with an efficient embedding layer which maps\n",
    "# our vocab indices into embedding_dims dimensions\n",
    "model.add(Embedding(max_features,\n",
    "                    embedding_dims,\n",
    "                    input_length=maxlen))\n",
    "model.add(Dropout(0.2))"
   ]
  },
  {
   "cell_type": "code",
   "execution_count": 106,
   "metadata": {
    "collapsed": true
   },
   "outputs": [],
   "source": [
    "# we add a Convolution1D, which will learn filters\n",
    "# word group filters of size filter_length:\n",
    "model.add(Conv1D(filters,\n",
    "                 kernel_size,\n",
    "                 padding='valid',\n",
    "                 activation='relu',\n",
    "                 strides=1))\n",
    "# we use max pooling:\n",
    "model.add(GlobalMaxPooling1D())"
   ]
  },
  {
   "cell_type": "code",
   "execution_count": 107,
   "metadata": {
    "collapsed": true
   },
   "outputs": [],
   "source": [
    "# We add a vanilla hidden layer:\n",
    "model.add(Dense(hidden_dims))\n",
    "model.add(Dropout(0.2))\n",
    "model.add(Activation('relu'))"
   ]
  },
  {
   "cell_type": "code",
   "execution_count": 108,
   "metadata": {
    "collapsed": true
   },
   "outputs": [],
   "source": [
    "model.add(Dense(1))\n",
    "model.add(Activation('sigmoid'))"
   ]
  },
  {
   "cell_type": "code",
   "execution_count": 109,
   "metadata": {
    "collapsed": true
   },
   "outputs": [],
   "source": [
    "model.compile(loss='binary_crossentropy',\n",
    "              optimizer='Adamax',\n",
    "              metrics=['accuracy'])"
   ]
  },
  {
   "cell_type": "code",
   "execution_count": 110,
   "metadata": {},
   "outputs": [
    {
     "name": "stdout",
     "output_type": "stream",
     "text": [
      "Train on 25000 samples, validate on 25000 samples\n",
      "Epoch 1/4\n",
      "25000/25000 [==============================] - 83s 3ms/step - loss: 0.4694 - acc: 0.7574 - val_loss: 0.3755 - val_acc: 0.8310\n",
      "Epoch 2/4\n",
      "25000/25000 [==============================] - 85s 3ms/step - loss: 0.2876 - acc: 0.8787 - val_loss: 0.2665 - val_acc: 0.8879\n",
      "Epoch 3/4\n",
      "25000/25000 [==============================] - 83s 3ms/step - loss: 0.2199 - acc: 0.9124 - val_loss: 0.2499 - val_acc: 0.8971\n",
      "Epoch 4/4\n",
      "25000/25000 [==============================] - 82s 3ms/step - loss: 0.1748 - acc: 0.9348 - val_loss: 0.2562 - val_acc: 0.8963\n"
     ]
    }
   ],
   "source": [
    "history1 = model.fit(X_train, y_train,\n",
    "          batch_size=batch_size,\n",
    "          epochs=epochs,\n",
    "          validation_data=(X_test, y_test))"
   ]
  },
  {
   "cell_type": "code",
   "execution_count": 111,
   "metadata": {},
   "outputs": [
    {
     "name": "stdout",
     "output_type": "stream",
     "text": [
      "25000/25000 [==============================] - 11s 424us/step\n"
     ]
    }
   ],
   "source": [
    "score, acc = model.evaluate(X_test, y_test,\n",
    "                            batch_size=batch_size)"
   ]
  },
  {
   "cell_type": "code",
   "execution_count": 112,
   "metadata": {},
   "outputs": [
    {
     "name": "stdout",
     "output_type": "stream",
     "text": [
      "Test score: 0.2561631447982788\n",
      "Test accuracy: 0.89632\n"
     ]
    }
   ],
   "source": [
    "print('Test score:', score)\n",
    "print('Test accuracy:', acc)"
   ]
  },
  {
   "cell_type": "code",
   "execution_count": 113,
   "metadata": {},
   "outputs": [
    {
     "name": "stdout",
     "output_type": "stream",
     "text": [
      "dict_keys(['val_loss', 'val_acc', 'loss', 'acc'])\n"
     ]
    },
    {
     "data": {
      "image/png": "[encoded data removed]",
      "text/plain": [
       "<matplotlib.figure.Figure at 0x7f60e83ecf60>"
      ]
     },
     "metadata": {},
     "output_type": "display_data"
    }
   ],
   "source": [
    "print(history1.history.keys())\n",
    "# summarize history for accuracy\n",
    "plt.plot(history1.history['acc'])\n",
    "plt.plot(history1.history['val_acc'])\n",
    "plt.title('model accuracy')\n",
    "plt.ylabel('accuracy')\n",
    "plt.xlabel('epoch')\n",
    "plt.legend(['train', 'test'], loc='upper left')\n",
    "plt.show()"
   ]
  },
  {
   "cell_type": "code",
   "execution_count": 114,
   "metadata": {},
   "outputs": [
    {
     "data": {
      "image/png": "[encoded data removed]",
      "text/plain": [
       "<matplotlib.figure.Figure at 0x7f60e83ecda0>"
      ]
     },
     "metadata": {},
     "output_type": "display_data"
    }
   ],
   "source": [
    "# summarize history for loss\n",
    "plt.plot(history1.history['loss'])\n",
    "plt.plot(history1.history['val_loss'])\n",
    "plt.title('model loss')\n",
    "plt.ylabel('loss')\n",
    "plt.xlabel('epoch')\n",
    "plt.legend(['train', 'test'], loc='upper left')\n",
    "plt.show()"
   ]
  },
  {
   "cell_type": "markdown",
   "metadata": {},
   "source": [
    "### '''Train a recurrent convolutional network on the IMDB sentiment classification task. -> Model D"
   ]
  },
  {
   "cell_type": "markdown",
   "metadata": {},
   "source": [
    "### Test score: 0.35238\n",
    "### Test accuracy: 0.85455"
   ]
  },
  {
   "cell_type": "code",
   "execution_count": 115,
   "metadata": {},
   "outputs": [],
   "source": [
    "from keras.layers import Conv1D, MaxPooling1D\n",
    "from keras.layers import Dense, Dropout, Activation\n",
    "import matplotlib.pyplot as plt"
   ]
  },
  {
   "cell_type": "code",
   "execution_count": 116,
   "metadata": {
    "collapsed": true
   },
   "outputs": [],
   "source": [
    "# Embedding\n",
    "max_features = 10000\n",
    "maxlen = 100\n",
    "embedding_size = 128"
   ]
  },
  {
   "cell_type": "code",
   "execution_count": 117,
   "metadata": {
    "collapsed": true
   },
   "outputs": [],
   "source": [
    "# Convolution\n",
    "kernel_size = 5\n",
    "filters = 64\n",
    "pool_size = 4"
   ]
  },
  {
   "cell_type": "code",
   "execution_count": 118,
   "metadata": {
    "collapsed": true
   },
   "outputs": [],
   "source": [
    "# LSTM\n",
    "lstm_output_size = 70\n"
   ]
  },
  {
   "cell_type": "code",
   "execution_count": 119,
   "metadata": {
    "collapsed": true
   },
   "outputs": [],
   "source": [
    "# Training\n",
    "batch_size = 30\n",
    "epochs = 4"
   ]
  },
  {
   "cell_type": "code",
   "execution_count": 120,
   "metadata": {},
   "outputs": [],
   "source": [
    "(X_train, y_train), (X_test, y_test) = imdb.load_data(path=\"imdb.npz\",\n",
    "                                                      num_words=max_features,\n",
    "                                                      skip_top=0,\n",
    "                                                      maxlen=None,\n",
    "                                                      seed=113,\n",
    "                                                      start_char=1,\n",
    "                                                      oov_char=2,\n",
    "                                                      index_from=3)"
   ]
  },
  {
   "cell_type": "code",
   "execution_count": 121,
   "metadata": {},
   "outputs": [
    {
     "name": "stdout",
     "output_type": "stream",
     "text": [
      "25000 train sequences\n",
      "25000 test sequences\n"
     ]
    }
   ],
   "source": [
    "print(len(X_train), 'train sequences')\n",
    "print(len(X_test), 'test sequences')"
   ]
  },
  {
   "cell_type": "code",
   "execution_count": 122,
   "metadata": {},
   "outputs": [
    {
     "name": "stdout",
     "output_type": "stream",
     "text": [
      "Pad sequences (samples x time)\n",
      "X_train shape: (25000, 100)\n",
      "X_test shape: (25000, 100)\n"
     ]
    }
   ],
   "source": [
    "print('Pad sequences (samples x time)')\n",
    "X_train = sequence.pad_sequences(X_train, maxlen=maxlen)\n",
    "X_test = sequence.pad_sequences(X_test, maxlen=maxlen)\n",
    "print('X_train shape:', X_train.shape)\n",
    "print('X_test shape:', X_test.shape)"
   ]
  },
  {
   "cell_type": "code",
   "execution_count": 123,
   "metadata": {},
   "outputs": [
    {
     "name": "stdout",
     "output_type": "stream",
     "text": [
      "Build model...\n"
     ]
    }
   ],
   "source": [
    "print('Build model...')"
   ]
  },
  {
   "cell_type": "code",
   "execution_count": 124,
   "metadata": {},
   "outputs": [],
   "source": [
    "model = Sequential()\n",
    "model.add(Embedding(max_features, embedding_size, input_length=maxlen))\n",
    "model.add(Dropout(0.25))\n",
    "model.add(Conv1D(filters,\n",
    "                 kernel_size,\n",
    "                 padding='valid',\n",
    "                 activation='relu',\n",
    "                 strides=1))\n",
    "model.add(MaxPooling1D(pool_size=pool_size))\n",
    "model.add(LSTM(lstm_output_size))\n",
    "model.add(Dense(1))\n",
    "model.add(Activation('sigmoid'))"
   ]
  },
  {
   "cell_type": "code",
   "execution_count": 125,
   "metadata": {
    "collapsed": true
   },
   "outputs": [],
   "source": [
    "model.compile(loss='binary_crossentropy',\n",
    "              optimizer='Adamax',\n",
    "              metrics=['accuracy'])"
   ]
  },
  {
   "cell_type": "code",
   "execution_count": 126,
   "metadata": {},
   "outputs": [
    {
     "name": "stdout",
     "output_type": "stream",
     "text": [
      "Train...\n",
      "Train on 25000 samples, validate on 25000 samples\n",
      "Epoch 1/4\n",
      "25000/25000 [==============================] - 42s 2ms/step - loss: 0.4212 - acc: 0.8014 - val_loss: 0.3496 - val_acc: 0.8454\n",
      "Epoch 2/4\n",
      "25000/25000 [==============================] - 41s 2ms/step - loss: 0.2795 - acc: 0.8830 - val_loss: 0.3229 - val_acc: 0.8581\n",
      "Epoch 3/4\n",
      "25000/25000 [==============================] - 41s 2ms/step - loss: 0.2234 - acc: 0.9107 - val_loss: 0.3464 - val_acc: 0.8558\n",
      "Epoch 4/4\n",
      "25000/25000 [==============================] - 41s 2ms/step - loss: 0.1774 - acc: 0.9325 - val_loss: 0.3524 - val_acc: 0.8546\n"
     ]
    }
   ],
   "source": [
    "print('Train...')\n",
    "history = model.fit(X_train,y_train,\n",
    "          batch_size=batch_size,\n",
    "          epochs=epochs,\n",
    "          validation_data=(X_test, y_test))"
   ]
  },
  {
   "cell_type": "code",
   "execution_count": 127,
   "metadata": {},
   "outputs": [
    {
     "name": "stdout",
     "output_type": "stream",
     "text": [
      "25000/25000 [==============================] - 6s 247us/step\n"
     ]
    }
   ],
   "source": [
    "score, acc = model.evaluate(X_test, y_test, batch_size=batch_size)"
   ]
  },
  {
   "cell_type": "code",
   "execution_count": 128,
   "metadata": {},
   "outputs": [
    {
     "name": "stdout",
     "output_type": "stream",
     "text": [
      "Test score: 0.3523846116989851\n",
      "Test accuracy: 0.8545599939346313\n"
     ]
    }
   ],
   "source": [
    "print('Test score:', score)\n",
    "print('Test accuracy:', acc)"
   ]
  },
  {
   "cell_type": "code",
   "execution_count": 129,
   "metadata": {},
   "outputs": [
    {
     "name": "stdout",
     "output_type": "stream",
     "text": [
      "dict_keys(['val_loss', 'val_acc', 'loss', 'acc'])\n"
     ]
    },
    {
     "data": {
      "image/png": "[encoded data removed]",
      "text/plain": [
       "<matplotlib.figure.Figure at 0x7f60ecb4b320>"
      ]
     },
     "metadata": {},
     "output_type": "display_data"
    }
   ],
   "source": [
    "print(history.history.keys())\n",
    "# summarize history for accuracy\n",
    "plt.plot(history.history['acc'])\n",
    "plt.plot(history.history['val_acc'])\n",
    "plt.title('model accuracy')\n",
    "plt.ylabel('accuracy')\n",
    "plt.xlabel('epoch')\n",
    "plt.legend(['train', 'test'], loc='upper left')\n",
    "plt.show()"
   ]
  },
  {
   "cell_type": "code",
   "execution_count": 130,
   "metadata": {},
   "outputs": [
    {
     "data": {
      "image/png": "[encoded data removed]",
      "text/plain": [
       "<matplotlib.figure.Figure at 0x7f60ecad5ac8>"
      ]
     },
     "metadata": {},
     "output_type": "display_data"
    }
   ],
   "source": [
    "# summarize history for loss\n",
    "plt.plot(history.history['loss'])\n",
    "plt.plot(history.history['val_loss'])\n",
    "plt.title('model loss')\n",
    "plt.ylabel('loss')\n",
    "plt.xlabel('epoch')\n",
    "plt.legend(['train', 'test'], loc='upper left')\n",
    "plt.show()"
   ]
  },
  {
   "cell_type": "markdown",
   "metadata": {},
   "source": [
    "### Conclusion:: Among Models A, B, C and D, model C(Convolution1D) is giving best results."
   ]
  }
 ],
 "metadata": {
  "kernelspec": {
   "display_name": "Python 3",
   "language": "python",
   "name": "python3"
  },
  "language_info": {
   "codemirror_mode": {
    "name": "ipython",
    "version": 3
   },
   "file_extension": ".py",
   "mimetype": "text/x-python",
   "name": "python",
   "nbconvert_exporter": "python",
   "pygments_lexer": "ipython3",
   "version": "3.6.3"
  }
 },
 "nbformat": 4,
 "nbformat_minor": 2
}
